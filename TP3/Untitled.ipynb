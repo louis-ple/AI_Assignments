{
 "cells": [
  {
   "cell_type": "code",
   "execution_count": 1,
   "id": "permanent-western",
   "metadata": {},
   "outputs": [],
   "source": [
    "import pandas as pd\n",
    "import numpy as np\n",
    "\n",
    "data = pd.read_csv(\"data/train.csv\", sep = ';').to_numpy()"
   ]
  },
  {
   "cell_type": "code",
   "execution_count": 2,
   "id": "collect-trader",
   "metadata": {},
   "outputs": [],
   "source": [
    "for i in range(len(data)):\n",
    "    if data[i][1]=='white':\n",
    "        data[i][1]=0\n",
    "    elif data[i][1]=='red':\n",
    "        data[i][1]=1"
   ]
  },
  {
   "cell_type": "code",
   "execution_count": 3,
   "id": "happy-liberal",
   "metadata": {},
   "outputs": [],
   "source": [
    "x_train = data.T[:13].T"
   ]
  },
  {
   "cell_type": "code",
   "execution_count": 4,
   "id": "peripheral-tissue",
   "metadata": {},
   "outputs": [],
   "source": [
    "y_train = data[:,13]"
   ]
  },
  {
   "cell_type": "code",
   "execution_count": 5,
   "id": "ranking-vienna",
   "metadata": {},
   "outputs": [],
   "source": [
    "y = []\n",
    "for i in y_train:\n",
    "    y.append(int(i))\n",
    "    \n",
    "y_train = y"
   ]
  },
  {
   "cell_type": "code",
   "execution_count": 6,
   "id": "thrown-participant",
   "metadata": {},
   "outputs": [],
   "source": [
    "x_test = pd.read_csv(\"data/test_public.csv\", sep = ';').to_numpy()"
   ]
  },
  {
   "cell_type": "code",
   "execution_count": 7,
   "id": "worst-intake",
   "metadata": {},
   "outputs": [],
   "source": [
    "for i in range(len(x_test)):\n",
    "    if x_test[i][1]=='white':\n",
    "        x_test[i][1]=0\n",
    "    elif x_test[i][1]=='red':\n",
    "        x_test[i][1]=1"
   ]
  },
  {
   "cell_type": "code",
   "execution_count": 8,
   "id": "occupied-camel",
   "metadata": {},
   "outputs": [],
   "source": [
    "from sklearn.dummy import DummyClassifier\n",
    "from sklearn.naive_bayes import BernoulliNB\n",
    "from sklearn.tree import DecisionTreeClassifier\n",
    "from sklearn.linear_model import LogisticRegression\n",
    "from sklearn.svm import LinearSVC\n",
    "from sklearn.model_selection import GridSearchCV\n",
    "from sklearn.neighbors import KNeighborsClassifier\n",
    "from sklearn.metrics import f1_score\n",
    "from sklearn.metrics import accuracy_score"
   ]
  },
  {
   "cell_type": "code",
   "execution_count": 19,
   "id": "hazardous-rescue",
   "metadata": {},
   "outputs": [],
   "source": [
    "#classifier = GridSearchCV(DecisionTreeClassifier(), [{'max_depth': np.arange(1,2,1)}], refit=True)\n",
    "classifier = DecisionTreeClassifier().fit(x_train, y_train)"
   ]
  },
  {
   "cell_type": "code",
   "execution_count": 20,
   "id": "raised-idaho",
   "metadata": {},
   "outputs": [
    {
     "data": {
      "text/html": [
       "<div>\n",
       "<style scoped>\n",
       "    .dataframe tbody tr th:only-of-type {\n",
       "        vertical-align: middle;\n",
       "    }\n",
       "\n",
       "    .dataframe tbody tr th {\n",
       "        vertical-align: top;\n",
       "    }\n",
       "\n",
       "    .dataframe thead th {\n",
       "        text-align: right;\n",
       "    }\n",
       "</style>\n",
       "<table border=\"1\" class=\"dataframe\">\n",
       "  <thead>\n",
       "    <tr style=\"text-align: right;\">\n",
       "      <th></th>\n",
       "      <th>quality</th>\n",
       "    </tr>\n",
       "  </thead>\n",
       "  <tbody>\n",
       "    <tr>\n",
       "      <th>0</th>\n",
       "      <td>7</td>\n",
       "    </tr>\n",
       "    <tr>\n",
       "      <th>1</th>\n",
       "      <td>8</td>\n",
       "    </tr>\n",
       "    <tr>\n",
       "      <th>2</th>\n",
       "      <td>5</td>\n",
       "    </tr>\n",
       "    <tr>\n",
       "      <th>3</th>\n",
       "      <td>6</td>\n",
       "    </tr>\n",
       "    <tr>\n",
       "      <th>4</th>\n",
       "      <td>6</td>\n",
       "    </tr>\n",
       "    <tr>\n",
       "      <th>...</th>\n",
       "      <td>...</td>\n",
       "    </tr>\n",
       "    <tr>\n",
       "      <th>970</th>\n",
       "      <td>5</td>\n",
       "    </tr>\n",
       "    <tr>\n",
       "      <th>971</th>\n",
       "      <td>6</td>\n",
       "    </tr>\n",
       "    <tr>\n",
       "      <th>972</th>\n",
       "      <td>7</td>\n",
       "    </tr>\n",
       "    <tr>\n",
       "      <th>973</th>\n",
       "      <td>6</td>\n",
       "    </tr>\n",
       "    <tr>\n",
       "      <th>974</th>\n",
       "      <td>5</td>\n",
       "    </tr>\n",
       "  </tbody>\n",
       "</table>\n",
       "<p>975 rows × 1 columns</p>\n",
       "</div>"
      ],
      "text/plain": [
       "     quality\n",
       "0          7\n",
       "1          8\n",
       "2          5\n",
       "3          6\n",
       "4          6\n",
       "..       ...\n",
       "970        5\n",
       "971        6\n",
       "972        7\n",
       "973        6\n",
       "974        5\n",
       "\n",
       "[975 rows x 1 columns]"
      ]
     },
     "execution_count": 20,
     "metadata": {},
     "output_type": "execute_result"
    }
   ],
   "source": [
    "predictions = classifier.predict(x_test)\n",
    "df = pd.DataFrame(predictions, columns=['quality'])\n",
    "df.to_csv(\"submission.csv\")\n",
    "df"
   ]
  },
  {
   "cell_type": "code",
   "execution_count": null,
   "id": "silent-simulation",
   "metadata": {},
   "outputs": [],
   "source": []
  }
 ],
 "metadata": {
  "kernelspec": {
   "display_name": "Python 3",
   "language": "python",
   "name": "python3"
  },
  "language_info": {
   "codemirror_mode": {
    "name": "ipython",
    "version": 3
   },
   "file_extension": ".py",
   "mimetype": "text/x-python",
   "name": "python",
   "nbconvert_exporter": "python",
   "pygments_lexer": "ipython3",
   "version": "3.8.5"
  }
 },
 "nbformat": 4,
 "nbformat_minor": 5
}
